{
  "cells": [
    {
      "cell_type": "code",
      "execution_count": 4,
      "id": "924208f0-65eb-4a78-b3d0-5276151b5a5e",
      "metadata": {
        "id": "924208f0-65eb-4a78-b3d0-5276151b5a5e"
      },
      "outputs": [],
      "source": [
        "import numpy as np\n",
        "import pandas as pd\n",
        "import tensorflow as tf\n",
        "import matplotlib.pyplot as plt\n",
        "import seaborn as sns\n",
        "from tensorflow.keras import layers\n",
        "import time\n",
        "%matplotlib inline"
      ]
    },
    {
      "cell_type": "code",
      "execution_count": 5,
      "id": "12487db5-6504-4396-9dc8-9d87be24b2da",
      "metadata": {
        "id": "12487db5-6504-4396-9dc8-9d87be24b2da"
      },
      "outputs": [],
      "source": [
        "(train_data , test_data),(_ , _) = tf.keras.datasets.mnist.load_data()"
      ]
    },
    {
      "cell_type": "code",
      "execution_count": 6,
      "id": "4d68ce5a-d518-4361-ade8-0b08043665f6",
      "metadata": {
        "colab": {
          "base_uri": "https://localhost:8080/",
          "height": 447
        },
        "id": "4d68ce5a-d518-4361-ade8-0b08043665f6",
        "outputId": "4bfc23b0-d0ca-4eb6-84e8-dec290f41097"
      },
      "outputs": [
        {
          "output_type": "stream",
          "name": "stdout",
          "text": [
            "2\n"
          ]
        },
        {
          "output_type": "display_data",
          "data": {
            "text/plain": [
              "<Figure size 640x480 with 1 Axes>"
            ],
            "image/png": "[encoded data removed]"
          },
          "metadata": {}
        }
      ],
      "source": [
        " plt.imshow(train_data[5])\n",
        "print(test_data[5])"
      ]
    },
    {
      "cell_type": "code",
      "execution_count": 7,
      "id": "e359375b-e45f-453f-9d95-a4cf71221ed8",
      "metadata": {
        "id": "e359375b-e45f-453f-9d95-a4cf71221ed8"
      },
      "outputs": [],
      "source": [
        "train_data = train_data.reshape(train_data.shape[0], 28, 28, 1).astype('float32')\n",
        "train_data = (train_data - 127.5) / 127.5"
      ]
    },
    {
      "cell_type": "code",
      "execution_count": 8,
      "id": "009a1573-59f3-4b62-830f-1290e0505fe6",
      "metadata": {
        "id": "009a1573-59f3-4b62-830f-1290e0505fe6"
      },
      "outputs": [],
      "source": [
        "BUFFER_SIZE=6000\n",
        "BATCH_SIZE=256\n",
        "train_dataset = tf.data.Dataset.from_tensor_slices(train_data).shuffle(BUFFER_SIZE).batch(BATCH_SIZE)"
      ]
    },
    {
      "cell_type": "code",
      "execution_count": 9,
      "id": "73e8916a-b61b-427a-85f7-6a71342592c7",
      "metadata": {
        "id": "73e8916a-b61b-427a-85f7-6a71342592c7"
      },
      "outputs": [],
      "source": [
        "def make_generator_model():\n",
        "    model = tf.keras.Sequential()\n",
        "    model.add(layers.Dense(7*7*256, use_bias=False, input_shape=(100,)))\n",
        "    model.add(layers.BatchNormalization())\n",
        "    model.add(layers.LeakyReLU())\n",
        "    model.add(layers.Reshape((7, 7, 256)))\n",
        "    assert model.output_shape == (None, 7, 7, 256)\n",
        "\n",
        "    model.add(layers.Conv2DTranspose(128, (5, 5), strides=(1, 1), padding='same', use_bias=False))\n",
        "    assert model.output_shape == (None, 7, 7, 128)\n",
        "    model.add(layers.BatchNormalization())\n",
        "    model.add(layers.LeakyReLU())\n",
        "\n",
        "    model.add(layers.Conv2DTranspose(64, (5, 5), strides=(2, 2), padding='same', use_bias=False))\n",
        "    assert model.output_shape == (None, 14, 14, 64)\n",
        "    model.add(layers.BatchNormalization())\n",
        "    model.add(layers.LeakyReLU())\n",
        "\n",
        "    model.add(layers.Conv2DTranspose(1, (5, 5), strides=(2, 2), padding='same', use_bias=False, activation='tanh'))\n",
        "    assert model.output_shape == (None, 28, 28, 1)\n",
        "\n",
        "    return model\n",
        ""
      ]
    },
    {
      "cell_type": "code",
      "execution_count": 10,
      "id": "e61c5149-01d0-46e9-8ecc-8666e3bc5779",
      "metadata": {
        "colab": {
          "base_uri": "https://localhost:8080/",
          "height": 502
        },
        "id": "e61c5149-01d0-46e9-8ecc-8666e3bc5779",
        "outputId": "b578dee0-32c8-4840-b78b-46d69f0bcf9c"
      },
      "outputs": [
        {
          "output_type": "stream",
          "name": "stderr",
          "text": [
            "/usr/local/lib/python3.10/dist-packages/keras/src/layers/core/dense.py:87: UserWarning: Do not pass an `input_shape`/`input_dim` argument to a layer. When using Sequential models, prefer using an `Input(shape)` object as the first layer in the model instead.\n",
            "  super().__init__(activity_regularizer=activity_regularizer, **kwargs)\n"
          ]
        },
        {
          "output_type": "execute_result",
          "data": {
            "text/plain": [
              "<matplotlib.image.AxesImage at 0x7f3ecd9de0e0>"
            ]
          },
          "metadata": {},
          "execution_count": 10
        },
        {
          "output_type": "display_data",
          "data": {
            "text/plain": [
              "<Figure size 640x480 with 1 Axes>"
            ],
            "image/png": "[encoded data removed]"
          },
          "metadata": {}
        }
      ],
      "source": [
        "generator = make_generator_model()\n",
        "noise = tf.random.normal([1,100])\n",
        "generated_image = generator(noise, training=False)\n",
        "plt.imshow(generated_image[0, :, :, 0], cmap='gray')"
      ]
    },
    {
      "cell_type": "code",
      "execution_count": 11,
      "id": "7dc8bb17-6559-4b8e-be5c-0683cb215d5d",
      "metadata": {
        "id": "7dc8bb17-6559-4b8e-be5c-0683cb215d5d"
      },
      "outputs": [],
      "source": [
        "def make_discriminator_model():\n",
        "    model = tf.keras.Sequential()\n",
        "    model.add(layers.Conv2D(64, (5, 5), strides=(2, 2), padding='same',input_shape=[28, 28, 1]))\n",
        "    model.add(layers.LeakyReLU())\n",
        "    model.add(layers.Dropout(0.3))\n",
        "\n",
        "    model.add(layers.Conv2D(128, (5, 5), strides=(2, 2), padding='same'))\n",
        "    model.add(layers.LeakyReLU())\n",
        "    model.add(layers.Dropout(0.3))\n",
        "\n",
        "    model.add(layers.Flatten())\n",
        "    model.add(layers.Dense(1))\n",
        "\n",
        "    return model\n"
      ]
    },
    {
      "cell_type": "code",
      "execution_count": 12,
      "id": "094589b9-cedd-49cc-96e3-8e6a2d1b98af",
      "metadata": {
        "colab": {
          "base_uri": "https://localhost:8080/"
        },
        "id": "094589b9-cedd-49cc-96e3-8e6a2d1b98af",
        "outputId": "4e32d44b-e56e-485b-89bb-828103731c2e"
      },
      "outputs": [
        {
          "output_type": "stream",
          "name": "stderr",
          "text": [
            "/usr/local/lib/python3.10/dist-packages/keras/src/layers/convolutional/base_conv.py:107: UserWarning: Do not pass an `input_shape`/`input_dim` argument to a layer. When using Sequential models, prefer using an `Input(shape)` object as the first layer in the model instead.\n",
            "  super().__init__(activity_regularizer=activity_regularizer, **kwargs)\n"
          ]
        },
        {
          "output_type": "stream",
          "name": "stdout",
          "text": [
            "tf.Tensor([[-0.00065107]], shape=(1, 1), dtype=float32)\n"
          ]
        }
      ],
      "source": [
        "discriminator = make_discriminator_model()\n",
        "decision = discriminator(generated_image)\n",
        "print(decision)\n"
      ]
    },
    {
      "cell_type": "code",
      "execution_count": 13,
      "id": "ab87c747-e4d7-40b6-9e86-8fb9055f84e2",
      "metadata": {
        "id": "ab87c747-e4d7-40b6-9e86-8fb9055f84e2"
      },
      "outputs": [],
      "source": [
        "cross_entropy = tf.keras.losses.BinaryCrossentropy(from_logits=True)"
      ]
    },
    {
      "cell_type": "code",
      "execution_count": 14,
      "id": "26ec947f-8d1d-46e9-ab33-f6b1957dfb2a",
      "metadata": {
        "id": "26ec947f-8d1d-46e9-ab33-f6b1957dfb2a"
      },
      "outputs": [],
      "source": [
        "def discriminator_loss(real_output,fake_output):\n",
        "    real_loss = cross_entropy(tf.ones_like(real_output),real_output) ####################\n",
        "    fake_loss = cross_entropy(tf.zeros_like(fake_output),fake_output)\n",
        "    total_loss = real_loss + fake_loss\n",
        "    return total_loss"
      ]
    },
    {
      "cell_type": "code",
      "execution_count": 15,
      "id": "41a36c71-84f6-4288-a2fd-64ba0b0898bd",
      "metadata": {
        "id": "41a36c71-84f6-4288-a2fd-64ba0b0898bd"
      },
      "outputs": [],
      "source": [
        "def generator_loss(fake_output):\n",
        "    fake_loss = cross_entropy(tf.ones_like(fake_output),fake_output)\n",
        "    return fake_loss"
      ]
    },
    {
      "cell_type": "code",
      "execution_count": 16,
      "id": "5e83697b-c1e5-4727-9d80-63c8115a2151",
      "metadata": {
        "id": "5e83697b-c1e5-4727-9d80-63c8115a2151"
      },
      "outputs": [],
      "source": [
        "generator_optimizer = tf.keras.optimizers.Adam(1e-4)\n",
        "discriminator_optimizer = tf.keras.optimizers.Adam(1e-4)"
      ]
    },
    {
      "cell_type": "code",
      "execution_count": 27,
      "id": "9937cc3c-6610-46ce-9a98-079ef47d6bf8",
      "metadata": {
        "id": "9937cc3c-6610-46ce-9a98-079ef47d6bf8"
      },
      "outputs": [],
      "source": [
        "epochs = 30\n",
        "noise_dim = 100\n",
        "num_examples_to_generate = 16\n"
      ]
    },
    {
      "cell_type": "code",
      "execution_count": 18,
      "id": "e88b4ab6-aecf-4604-b828-b394719e314b",
      "metadata": {
        "id": "e88b4ab6-aecf-4604-b828-b394719e314b"
      },
      "outputs": [],
      "source": [
        "seed = tf.random.normal([num_examples_to_generate, noise_dim])"
      ]
    },
    {
      "cell_type": "code",
      "execution_count": 19,
      "id": "4c9dc261-1256-4a59-8845-85ae64edd199",
      "metadata": {
        "id": "4c9dc261-1256-4a59-8845-85ae64edd199"
      },
      "outputs": [],
      "source": [
        "@tf.function\n",
        "def train_step(images):\n",
        "    noise = tf.random.normal([BATCH_SIZE, noise_dim])\n",
        "\n",
        "    with tf.GradientTape() as gen_tape, tf.GradientTape() as disc_tape:  ############################\n",
        "      generated_images = generator(noise, training=True)\n",
        "\n",
        "      real_output = discriminator(images, training=True)\n",
        "      fake_output = discriminator(generated_images, training=True)\n",
        "\n",
        "      gen_loss = generator_loss(fake_output)\n",
        "      disc_loss = discriminator_loss(real_output, fake_output)\n",
        "\n",
        "    gradients_of_generator = gen_tape.gradient(gen_loss, generator.trainable_variables)\n",
        "    gradients_of_discriminator = disc_tape.gradient(disc_loss, discriminator.trainable_variables)\n",
        "\n",
        "    generator_optimizer.apply_gradients(zip(gradients_of_generator, generator.trainable_variables))\n",
        "    discriminator_optimizer.apply_gradients(zip(gradients_of_discriminator, discriminator.trainable_variables))"
      ]
    },
    {
      "cell_type": "code",
      "execution_count": 20,
      "id": "69a054b8-699d-4364-8ab5-a45e2542ffe4",
      "metadata": {
        "id": "69a054b8-699d-4364-8ab5-a45e2542ffe4"
      },
      "outputs": [],
      "source": [
        "def train(dataset, epochs):\n",
        "  for epoch in range(epochs):\n",
        "    start = time.time()\n",
        "\n",
        "    for image_batch in dataset:\n",
        "      train_step(image_batch)\n",
        "\n",
        "\n",
        "    print ('Time for epoch {} is {} sec'.format(epoch + 1, time.time()-start))\n",
        "\n",
        "\n",
        "  generate_and_save_images(generator,epochs, seed)"
      ]
    },
    {
      "cell_type": "code",
      "execution_count": 21,
      "id": "1b04f933-933b-4d91-b611-9aabe95915bf",
      "metadata": {
        "id": "1b04f933-933b-4d91-b611-9aabe95915bf"
      },
      "outputs": [],
      "source": [
        "def generate_and_save_images(model, epoch, test_input):\n",
        "  predictions = model(test_input, training=False)\n",
        "  fig = plt.figure(figsize=(4, 4))\n",
        "  for i in range(predictions.shape[0]):\n",
        "      plt.subplot(4, 4, i+1)\n",
        "      plt.imshow(predictions[i, :, :, 0] * 127.5 + 127.5, cmap='gray')\n",
        "      plt.axis('off')\n",
        "\n",
        "  plt.savefig('image_at_epoch_{:04d}.png'.format(epoch))\n",
        "  plt.show()"
      ]
    },
    {
      "cell_type": "code",
      "execution_count": 28,
      "id": "7cf16ae9-1999-4bc8-8588-42505dfbc6e5",
      "metadata": {
        "colab": {
          "base_uri": "https://localhost:8080/",
          "height": 866
        },
        "id": "7cf16ae9-1999-4bc8-8588-42505dfbc6e5",
        "outputId": "1556f72f-631d-4fad-c482-802c1a068447"
      },
      "outputs": [
        {
          "output_type": "stream",
          "name": "stdout",
          "text": [
            "Time for epoch 1 is 11.93617582321167 sec\n",
            "Time for epoch 2 is 12.095820665359497 sec\n",
            "Time for epoch 3 is 11.864732265472412 sec\n",
            "Time for epoch 4 is 11.798134565353394 sec\n",
            "Time for epoch 5 is 11.69646430015564 sec\n",
            "Time for epoch 6 is 11.674076080322266 sec\n",
            "Time for epoch 7 is 11.710827827453613 sec\n",
            "Time for epoch 8 is 11.792046070098877 sec\n",
            "Time for epoch 9 is 11.839516878128052 sec\n",
            "Time for epoch 10 is 11.842492818832397 sec\n",
            "Time for epoch 11 is 11.838900327682495 sec\n",
            "Time for epoch 12 is 11.814155101776123 sec\n",
            "Time for epoch 13 is 11.750632524490356 sec\n",
            "Time for epoch 14 is 11.757575035095215 sec\n",
            "Time for epoch 15 is 11.769100904464722 sec\n",
            "Time for epoch 16 is 11.765215158462524 sec\n",
            "Time for epoch 17 is 11.768006801605225 sec\n",
            "Time for epoch 18 is 11.751978397369385 sec\n",
            "Time for epoch 19 is 11.768086671829224 sec\n",
            "Time for epoch 20 is 11.760354280471802 sec\n",
            "Time for epoch 21 is 20.462137699127197 sec\n",
            "Time for epoch 22 is 11.716104507446289 sec\n",
            "Time for epoch 23 is 11.849337577819824 sec\n",
            "Time for epoch 24 is 11.859728574752808 sec\n",
            "Time for epoch 25 is 11.849353790283203 sec\n",
            "Time for epoch 26 is 11.80301809310913 sec\n",
            "Time for epoch 27 is 11.725905895233154 sec\n",
            "Time for epoch 28 is 11.721667766571045 sec\n",
            "Time for epoch 29 is 11.726062297821045 sec\n",
            "Time for epoch 30 is 11.765631675720215 sec\n"
          ]
        },
        {
          "output_type": "display_data",
          "data": {
            "text/plain": [
              "<Figure size 400x400 with 16 Axes>"
            ],
            "image/png": "[encoded data removed]"
          },
          "metadata": {}
        }
      ],
      "source": [
        "train(train_dataset, epochs)"
      ]
    },
    {
      "cell_type": "code",
      "source": [],
      "metadata": {
        "id": "VbBA64tthnX_"
      },
      "id": "VbBA64tthnX_",
      "execution_count": null,
      "outputs": []
    }
  ],
  "metadata": {
    "kernelspec": {
      "display_name": "Python 3",
      "name": "python3"
    },
    "language_info": {
      "codemirror_mode": {
        "name": "ipython",
        "version": 3
      },
      "file_extension": ".py",
      "mimetype": "text/x-python",
      "name": "python",
      "nbconvert_exporter": "python",
      "pygments_lexer": "ipython3",
      "version": "3.11.7"
    },
    "colab": {
      "provenance": [],
      "gpuType": "T4"
    },
    "accelerator": "GPU"
  },
  "nbformat": 4,
  "nbformat_minor": 5
}